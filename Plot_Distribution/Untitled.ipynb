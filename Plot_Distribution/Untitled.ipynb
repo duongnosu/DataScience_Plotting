{
 "cells": [
  {
   "cell_type": "code",
   "execution_count": 1,
   "metadata": {},
   "outputs": [],
   "source": [
    "import pandas as pd\n",
    "import numpy as np\n",
    "import matplotlib.pyplot as plt\n",
    "from matplotlib import cm\n",
    "#note matplotlib,cm is colorsmap for size bar\n",
    "\n",
    "np.random.seed(12345)\n",
    "\n",
    "df_invert = pd.DataFrame([np.random.normal(32000, 200000, 3650),\n",
    "                          np.random.normal(43000, 100000, 3650),\n",
    "                          np.random.normal(43500, 140000, 3650),\n",
    "                          np.random.normal(48000, 70000, 3650)],\n",
    "                         index=[1992, 1993, 1994, 1995])\n",
    "\n",
    "\n",
    "# calculate mean m and margin of error yerr for each of the rows in the data frame\n",
    "\n",
    "df = df_invert.T\n",
    "mean_df = df.mean()"
   ]
  },
  {
   "cell_type": "code",
   "execution_count": null,
   "metadata": {},
   "outputs": [],
   "source": []
  }
 ],
 "metadata": {
  "kernelspec": {
   "display_name": "Python 3",
   "language": "python",
   "name": "python3"
  },
  "language_info": {
   "codemirror_mode": {
    "name": "ipython",
    "version": 3
   },
   "file_extension": ".py",
   "mimetype": "text/x-python",
   "name": "python",
   "nbconvert_exporter": "python",
   "pygments_lexer": "ipython3",
   "version": "3.8.5"
  }
 },
 "nbformat": 4,
 "nbformat_minor": 4
}
