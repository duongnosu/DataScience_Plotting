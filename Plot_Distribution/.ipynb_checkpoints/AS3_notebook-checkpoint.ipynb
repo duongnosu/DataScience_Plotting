{
 "cells": [
  {
   "cell_type": "code",
   "execution_count": 21,
   "metadata": {},
   "outputs": [
    {
     "data": {
      "image/png": "[encoded data removed]",
      "text/plain": [
       "<Figure size 432x288 with 2 Axes>"
      ]
     },
     "metadata": {
      "needs_background": "light"
     },
     "output_type": "display_data"
    }
   ],
   "source": [
    "import pandas as pd\n",
    "import numpy as np\n",
    "import matplotlib.pyplot as plt\n",
    "from matplotlib import cm\n",
    "# note matplotlib,cm is colorsmap for size bar\n",
    "\n",
    "np.random.seed(12345)\n",
    "\n",
    "df = pd.DataFrame([np.random.normal(32000, 200000, 3650),\n",
    "                   np.random.normal(43000, 100000, 3650),\n",
    "                   np.random.normal(43500, 140000, 3650),\n",
    "                   np.random.normal(48000, 70000, 3650)],\n",
    "                  index=[1992, 1993, 1994, 1995])\n",
    "\n",
    "\n",
    "# calculate mean m and margin of error yerr for each of the rows in the data frame\n",
    "# %% This is\n",
    "dfT = df.T\n",
    "#\n",
    "mean_df = dfT.mean()\n",
    "\n",
    "# %%\n",
    "\n",
    "# %% Get mean values for each year\n",
    "for year in dfT.keys():\n",
    "    mean_value = dfT[year]\n",
    "\n",
    "# yerr =the margin of error\n",
    "#yerr = z * (sigma/ sqrt(n))\n",
    "# sigma  = population standard deviation\n",
    "#z = z-score\n",
    "# n= sample size\n",
    "# 1.96 means that we are looking at 95% confidence interval\n",
    "n = len(dfT)\n",
    "z = 1.96\n",
    "sigma = df.std()\n",
    "\n",
    "yerr_df = z * (sigma/np.sqrt(n))\n",
    "\n",
    "\n",
    "def plot_graph(y_axis_value):\n",
    "\n",
    "    prob_map = {}\n",
    "\n",
    "    for year in dfT.keys():\n",
    "        mean_value = mean_df[year]\n",
    "        yerr = yerr_df[year]\n",
    "        lower_limit = mean_value - yerr\n",
    "        upper_limit = mean_value + yerr\n",
    "        if y_axis_value < lower_limit:\n",
    "            prob = 1\n",
    "        elif y_axis_value > upper_limit:\n",
    "            prob = 0\n",
    "        else:\n",
    "            prob = min(abs(mean_value-y_axis_value)/yerr, 1)\n",
    "        prob_map[year] = prob\n",
    "\n",
    "    df_prob_map = pd.Series(prob_map)\n",
    "\n",
    "    prob_range = df_prob_map.values\n",
    "    colors = cm.RdBu(prob_range/float(max(prob_range)))\n",
    "\n",
    "    plot = plt.scatter(prob_range, prob_range, c=prob_range, cmap='RdBu')\n",
    "    plt.clf()\n",
    "    plt.colorbar(plot)\n",
    "    plt.bar(df_prob_map.index, mean_df.values, color=colors)\n",
    "    plt.xticks(df_prob_map.index, [str(i) for i in df_prob_map.index])\n",
    "    #plot.spines['top'].set_visible(False)\n",
    "\n",
    "    line, = plt.plot(plt.xlim(), [y_axis_value, y_axis_value], 'k-',\n",
    "                     color=('red'), lw=2)\n",
    "\n",
    "    plt.gca().set_title('Distributions mean and confidence interval \\n Default line at 40000')\n",
    "    \n",
    "    plt.show()\n",
    "\n",
    "\n",
    "plot_graph(40000)\n"
   ]
  },
  {
   "cell_type": "code",
   "execution_count": null,
   "metadata": {},
   "outputs": [],
   "source": []
  }
 ],
 "metadata": {
  "kernelspec": {
   "display_name": "Python 3",
   "language": "python",
   "name": "python3"
  },
  "language_info": {
   "codemirror_mode": {
    "name": "ipython",
    "version": 3
   },
   "file_extension": ".py",
   "mimetype": "text/x-python",
   "name": "python",
   "nbconvert_exporter": "python",
   "pygments_lexer": "ipython3",
   "version": "3.8.5"
  }
 },
 "nbformat": 4,
 "nbformat_minor": 4
}
